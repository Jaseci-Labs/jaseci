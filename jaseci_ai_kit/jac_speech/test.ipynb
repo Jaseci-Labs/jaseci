{
 "cells": [
  {
   "cell_type": "code",
   "execution_count": 1,
   "metadata": {},
   "outputs": [],
   "source": [
    "MODULES = [\"stt\", \"vc_tts\"]\n",
    "\n",
    "from os.path import join\n",
    "\n",
    "def get_extras_requires():\n",
    "    extras_requires = {\"all\": []}\n",
    "    for module in MODULES:\n",
    "        with open(join(\"./jac_speech\", module, \"requirements.txt\")) as req_file:\n",
    "            extras_requires[module] = req_file.read().splitlines()\n",
    "            extras_requires[\"all\"].extend(extras_requires[module])\n",
    "    return extras_requires"
   ]
  },
  {
   "cell_type": "code",
   "execution_count": 2,
   "metadata": {},
   "outputs": [
    {
     "data": {
      "text/plain": [
       "{'all': ['librosa>=0.8.0,<=0.9.2',\n",
       "  'torch>=1.10.2<=2.0.0',\n",
       "  'openai-whisper==20230314',\n",
       "  'soundfile>=0.12.1, <0.13',\n",
       "  'soundfile>=0.12.1, <0.13',\n",
       "  'unidecode==1.3.6',\n",
       "  'inflect<=6.0.2',\n",
       "  'librosa<=0.9.2, >=0.8.0',\n",
       "  'numpy>=1.23.0'],\n",
       " 'stt': ['librosa>=0.8.0,<=0.9.2',\n",
       "  'torch>=1.10.2<=2.0.0',\n",
       "  'openai-whisper==20230314',\n",
       "  'soundfile>=0.12.1, <0.13'],\n",
       " 'vc_tts': ['soundfile>=0.12.1, <0.13',\n",
       "  'unidecode==1.3.6',\n",
       "  'inflect<=6.0.2',\n",
       "  'librosa<=0.9.2, >=0.8.0',\n",
       "  'numpy>=1.23.0']}"
      ]
     },
     "execution_count": 2,
     "metadata": {},
     "output_type": "execute_result"
    }
   ],
   "source": [
    "get_extras_requires()"
   ]
  },
  {
   "cell_type": "code",
   "execution_count": null,
   "metadata": {},
   "outputs": [],
   "source": []
  }
 ],
 "metadata": {
  "kernelspec": {
   "display_name": "jaseci",
   "language": "python",
   "name": "python3"
  },
  "language_info": {
   "codemirror_mode": {
    "name": "ipython",
    "version": 3
   },
   "file_extension": ".py",
   "mimetype": "text/x-python",
   "name": "python",
   "nbconvert_exporter": "python",
   "pygments_lexer": "ipython3",
   "version": "3.10.10"
  },
  "orig_nbformat": 4
 },
 "nbformat": 4,
 "nbformat_minor": 2
}
